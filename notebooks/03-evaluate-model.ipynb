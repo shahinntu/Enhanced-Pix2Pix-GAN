{
 "cells": [
  {
   "cell_type": "code",
   "execution_count": 90,
   "metadata": {},
   "outputs": [],
   "source": [
    "import os\n",
    "import sys\n",
    "\n",
    "import torch\n",
    "import torch.nn as nn\n",
    "from torchvision import transforms\n",
    "from torch.utils.data import DataLoader\n",
    "\n",
    "sys.path.append(\"../\")\n",
    "from data_preparation import CustomDataset\n",
    "from networks import UNet, Critic\n",
    "from metrics import FID, psnr\n",
    "from train import Trainer\n",
    "from utils import Params"
   ]
  },
  {
   "cell_type": "code",
   "execution_count": 91,
   "metadata": {},
   "outputs": [],
   "source": [
    "data_dir = \"../data/val/\"\n",
    "model_dir = \"../models/checkpoints\"\n",
    "checkpoint = \"231119195749\""
   ]
  },
  {
   "cell_type": "code",
   "execution_count": 92,
   "metadata": {},
   "outputs": [],
   "source": [
    "device = \"cuda:0\" if torch.cuda.is_available() else \"cpu\""
   ]
  },
  {
   "cell_type": "code",
   "execution_count": 93,
   "metadata": {},
   "outputs": [],
   "source": [
    "transform = transforms.Compose([transforms.ToTensor()])\n",
    "dataset = CustomDataset(data_dir, transform)\n",
    "dataloader = DataLoader(\n",
    "    dataset, batch_size=32, shuffle=True, drop_last=True\n",
    ")"
   ]
  },
  {
   "cell_type": "code",
   "execution_count": 94,
   "metadata": {},
   "outputs": [],
   "source": [
    "config_path = os.path.join(model_dir, checkpoint, \"hyper_params/params.json\")\n",
    "config = Params(config_path)"
   ]
  },
  {
   "cell_type": "code",
   "execution_count": 95,
   "metadata": {},
   "outputs": [],
   "source": [
    "gen = UNet(config.INPUT_DIM, config.REAL_DIM)\n",
    "global_critic = Critic(\n",
    "    config.INPUT_DIM + config.REAL_DIM, config.GLOBAL_CRITIC_NUM_DOWN_BLOCKS\n",
    ")\n",
    "local_critic = Critic(\n",
    "    config.INPUT_DIM + config.REAL_DIM, config.LOCAL_CRITIC_NUM_DOWN_BLOCKS\n",
    ")"
   ]
  },
  {
   "cell_type": "code",
   "execution_count": 96,
   "metadata": {},
   "outputs": [],
   "source": [
    "recon_criterion = nn.L1Loss()"
   ]
  },
  {
   "cell_type": "code",
   "execution_count": 97,
   "metadata": {},
   "outputs": [],
   "source": [
    "metrics = {\"fid\": FID(device, config), \"psnr\": psnr}"
   ]
  },
  {
   "cell_type": "code",
   "execution_count": 98,
   "metadata": {},
   "outputs": [],
   "source": [
    "trainer = Trainer(gen, global_critic, local_critic, None, None, None, recon_criterion, metrics, None, config, model_dir, device, restore_version=checkpoint)"
   ]
  },
  {
   "cell_type": "code",
   "execution_count": 99,
   "metadata": {},
   "outputs": [],
   "source": [
    "val_metrics = trainer.evaluate(dataloader)"
   ]
  },
  {
   "cell_type": "code",
   "execution_count": 100,
   "metadata": {},
   "outputs": [
    {
     "name": "stdout",
     "output_type": "stream",
     "text": [
      "The FID of validation data is 80.71\n"
     ]
    }
   ],
   "source": [
    "print(f\"The FID of validation data is {val_metrics['fid']:.2f}\")"
   ]
  }
 ],
 "metadata": {
  "kernelspec": {
   "display_name": "torch-env",
   "language": "python",
   "name": "python3"
  },
  "language_info": {
   "codemirror_mode": {
    "name": "ipython",
    "version": 3
   },
   "file_extension": ".py",
   "mimetype": "text/x-python",
   "name": "python",
   "nbconvert_exporter": "python",
   "pygments_lexer": "ipython3",
   "version": "3.10.13"
  }
 },
 "nbformat": 4,
 "nbformat_minor": 2
}
